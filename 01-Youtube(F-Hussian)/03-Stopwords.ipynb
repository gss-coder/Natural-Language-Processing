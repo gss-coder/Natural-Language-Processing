{
 "cells": [
  {
   "cell_type": "markdown",
   "metadata": {
    "colab_type": "text",
    "id": "S5v33WyRCR2S"
   },
   "source": [
    "### <center>3. Stop Words</center>\n",
    "\n",
    "#### 1. Stop words are those words that do not contribute to the deeper meaning of the phrase. \n",
    "\n",
    "#### 2. They are the most common words such as: the, a, and is. \n",
    "\n",
    "#### 3. For some applications like documentation classification, it may make sense to remove stop words. \n",
    "\n",
    "#### 4. NLTK provides a list of commonly agreed upon stop words for a variety of languages, such as English.. "
   ]
  },
  {
   "cell_type": "markdown",
   "metadata": {},
   "source": [
    "#### 1. Import the lib's"
   ]
  },
  {
   "cell_type": "code",
   "execution_count": 2,
   "metadata": {
    "colab": {},
    "colab_type": "code",
    "id": "M1ehwqoXCR2T"
   },
   "outputs": [],
   "source": [
    "# Perform standard imports:\n",
    "\n",
    "import spacy\n",
    "nlp = spacy.load('en_core_web_lg')"
   ]
  },
  {
   "cell_type": "code",
   "execution_count": 4,
   "metadata": {},
   "outputs": [
    {
     "name": "stdout",
     "output_type": "stream",
     "text": [
      "Collecting nltk\n",
      "  Downloading nltk-3.7-py3-none-any.whl (1.5 MB)\n",
      "\u001b[2K     \u001b[38;2;114;156;31m━━━━━━━━━━━━━━━━━━━━━━━━━━━━━━━━━━━━━━━━\u001b[0m \u001b[32m1.5/1.5 MB\u001b[0m \u001b[31m5.8 MB/s\u001b[0m eta \u001b[36m0:00:00\u001b[0mm eta \u001b[36m0:00:01\u001b[0m0:01\u001b[0m:01\u001b[0m\n",
      "\u001b[?25hRequirement already satisfied: regex>=2021.8.3 in ./jupyterenv/lib/python3.8/site-packages (from nltk) (2022.7.9)\n",
      "Requirement already satisfied: click in ./jupyterenv/lib/python3.8/site-packages (from nltk) (8.1.3)\n",
      "Requirement already satisfied: tqdm in ./jupyterenv/lib/python3.8/site-packages (from nltk) (4.64.0)\n",
      "Requirement already satisfied: joblib in ./jupyterenv/lib/python3.8/site-packages (from nltk) (1.1.0)\n",
      "Installing collected packages: nltk\n",
      "Successfully installed nltk-3.7\n",
      "\n",
      "\u001b[1m[\u001b[0m\u001b[34;49mnotice\u001b[0m\u001b[1;39;49m]\u001b[0m\u001b[39;49m A new release of pip available: \u001b[0m\u001b[31;49m22.1.2\u001b[0m\u001b[39;49m -> \u001b[0m\u001b[32;49m22.2.1\u001b[0m\n",
      "\u001b[1m[\u001b[0m\u001b[34;49mnotice\u001b[0m\u001b[1;39;49m]\u001b[0m\u001b[39;49m To update, run: \u001b[0m\u001b[32;49mpip install --upgrade pip\u001b[0m\n"
     ]
    }
   ],
   "source": [
    "!pip install nltk"
   ]
  },
  {
   "cell_type": "markdown",
   "metadata": {},
   "source": [
    "#### 2. Download the stopword's"
   ]
  },
  {
   "cell_type": "code",
   "execution_count": 6,
   "metadata": {
    "colab": {
     "base_uri": "https://localhost:8080/",
     "height": 68
    },
    "colab_type": "code",
    "id": "0PZAtJwgCVNo",
    "outputId": "4e8ebdf7-d0bd-4c4f-ec70-e14a138936d0"
   },
   "outputs": [
    {
     "name": "stderr",
     "output_type": "stream",
     "text": [
      "[nltk_data] Downloading package stopwords to\n",
      "[nltk_data]     /home/v-ajay.nikumbh/nltk_data...\n",
      "[nltk_data]   Package stopwords is already up-to-date!\n"
     ]
    },
    {
     "data": {
      "text/plain": [
       "True"
      ]
     },
     "execution_count": 6,
     "metadata": {},
     "output_type": "execute_result"
    }
   ],
   "source": [
    "import nltk\n",
    "nltk.download('stopwords')"
   ]
  },
  {
   "cell_type": "code",
   "execution_count": 7,
   "metadata": {
    "colab": {
     "base_uri": "https://localhost:8080/",
     "height": 54
    },
    "colab_type": "code",
    "id": "O3drpJkBCR2Z",
    "outputId": "164d75d1-7e89-4b18-f9b5-f607d7abc6aa"
   },
   "outputs": [
    {
     "name": "stdout",
     "output_type": "stream",
     "text": [
      "{'twelve', 'her', 'since', 'thru', 'out', 'six', 'what', 'many', 'one', 'please', 'does', 'otherwise', 'and', '’ll', 'third', \"'m\", 'can', 'ours', 'been', 'them', 'several', \"'d\", 'under', 'more', 'as', 'hence', 'between', 'either', 'side', 'herein', 'already', 'at', 'hers', 'somewhere', 'anywhere', 'whom', 'say', 'i', 'until', 'except', 'using', 'nothing', 'everywhere', 'both', '‘ve', 'unless', 'latter', 'its', 'keep', 'seeming', 'hereby', '’re', 'of', '‘re', 'two', 'moreover', 'sixty', 'become', 'nevertheless', 'various', 'yet', 'beyond', 'this', 'front', 'go', '’ve', 'very', 'show', 'than', 'make', 'thus', 'nobody', 'call', 'seem', 'by', 'ever', '‘m', 'all', 'cannot', 'full', 'often', 'rather', 'amount', 'again', 'seemed', 'five', 'their', 'my', 'n‘t', 'therein', 'we', 'elsewhere', 'get', 'anyhow', 'top', '’s', 'themselves', 'whence', 'any', 'amongst', 'whose', 'should', 'back', 'though', \"'ll\", 'have', 'whereas', 'ten', 'someone', 'formerly', 'herself', 'those', 'over', 'will', 'almost', 'becoming', 'latterly', 'hereafter', 'done', 'across', 'never', 'towards', 'nowhere', 'n’t', 'take', 'up', 'after', 'whenever', 'four', 'whether', 'wherein', 'nor', 'his', 'fifty', 'it', 'are', 'give', 'against', 'doing', 'without', 'above', \"'re\", 'that', 'perhaps', 'move', 'mine', 'only', 'you', 'on', 'every', 'fifteen', '‘d', 'along', 'an', 'beside', 'just', 'no', 'within', 'eleven', 'nine', 'less', 'sometimes', 'same', 'three', 'another', 'none', 'while', 'whereafter', 'mostly', 'through', 'whole', 'but', 'might', 'empty', 'also', 'wherever', 'seems', 'whither', 'from', 'they', 'else', 'would', 'however', '‘ll', 'well', 're', 'these', 'how', 'among', 'were', 'thereby', 'where', 'indeed', 'into', 'somehow', 'was', 'she', 'yourself', '‘s', 'anyone', 'few', 'him', 'noone', 'together', 'much', 'whoever', 'thereupon', 'us', 'onto', 'the', 'own', 'thereafter', 'your', 'down', 'which', 'has', 'bottom', 'serious', 'could', 'per', 'be', 'some', 'afterwards', 'not', 'toward', 'off', 'therefore', 'whereupon', 'meanwhile', 'with', 'name', 'do', 'itself', 'sometime', 'about', '’m', 'least', 'thence', 'why', 'enough', 'even', 'although', 'via', 'yours', 'a', 'beforehand', 'everything', 'everyone', 'neither', 'ourselves', 'first', 'made', \"n't\", 'our', 'behind', 'last', 'used', 'whereby', 'once', 'me', 'here', 'part', 'in', 'former', 'due', 'put', 'yourselves', 'further', 'really', 'he', 'regarding', 'whatever', 'before', 'if', 'hereupon', 'became', 'becomes', 'upon', 'see', 'himself', 'when', 'quite', 'then', 'always', 'anything', 'such', 'throughout', 'or', 'myself', \"'ve\", 'so', 'now', 'because', '’d', 'did', 'twenty', 'ca', 'other', 'namely', 'too', 'am', 'may', 'something', 'to', \"'s\", 'others', 'who', 'is', 'anyway', 'during', 'below', 'still', 'forty', 'around', 'most', 'there', 'had', 'alone', 'must', 'for', 'next', 'being', 'besides', 'eight', 'each', 'hundred'}\n"
     ]
    }
   ],
   "source": [
    "# Print the set of spaCy's default stop words (remember that sets are unordered):\n",
    "\n",
    "print(nlp.Defaults.stop_words)"
   ]
  },
  {
   "cell_type": "code",
   "execution_count": 8,
   "metadata": {
    "colab": {
     "base_uri": "https://localhost:8080/",
     "height": 34
    },
    "colab_type": "code",
    "id": "diWTTaRICR2g",
    "outputId": "ec779a00-2e5b-43e9-b526-721cfa755ad1"
   },
   "outputs": [
    {
     "data": {
      "text/plain": [
       "326"
      ]
     },
     "execution_count": 8,
     "metadata": {},
     "output_type": "execute_result"
    }
   ],
   "source": [
    "len(nlp.Defaults.stop_words)"
   ]
  },
  {
   "cell_type": "markdown",
   "metadata": {
    "colab_type": "text",
    "id": "tWu19KsbCR2k"
   },
   "source": [
    "#### 3. To see if a word is a stop word"
   ]
  },
  {
   "cell_type": "code",
   "execution_count": 9,
   "metadata": {
    "colab": {
     "base_uri": "https://localhost:8080/",
     "height": 34
    },
    "colab_type": "code",
    "id": "Sxj_JjAdCR2k",
    "outputId": "2fbdde00-9d43-42d9-b438-83dbf1040055"
   },
   "outputs": [
    {
     "data": {
      "text/plain": [
       "True"
      ]
     },
     "execution_count": 9,
     "metadata": {},
     "output_type": "execute_result"
    }
   ],
   "source": [
    "nlp.vocab['myself'].is_stop"
   ]
  },
  {
   "cell_type": "code",
   "execution_count": 10,
   "metadata": {
    "colab": {
     "base_uri": "https://localhost:8080/",
     "height": 34
    },
    "colab_type": "code",
    "id": "Ep_V7bnOCR2o",
    "outputId": "aee5a5df-1185-4533-cda7-44dccdcddb8f"
   },
   "outputs": [
    {
     "data": {
      "text/plain": [
       "False"
      ]
     },
     "execution_count": 10,
     "metadata": {},
     "output_type": "execute_result"
    }
   ],
   "source": [
    "nlp.vocab['mystery'].is_stop"
   ]
  },
  {
   "cell_type": "code",
   "execution_count": 11,
   "metadata": {
    "colab": {},
    "colab_type": "code",
    "id": "U1vIs64dCR2t"
   },
   "outputs": [],
   "source": [
    "# Add the word to the set of stop words. Use lowercase!\n",
    "nlp.Defaults.stop_words.add('mystery')"
   ]
  },
  {
   "cell_type": "code",
   "execution_count": 12,
   "metadata": {
    "colab": {},
    "colab_type": "code",
    "id": "SQnVv6JEiqHC"
   },
   "outputs": [],
   "source": [
    "# Set the stop_word tag on the lexeme\n",
    "nlp.vocab['mystery'].is_stop = True"
   ]
  },
  {
   "cell_type": "code",
   "execution_count": 13,
   "metadata": {
    "colab": {
     "base_uri": "https://localhost:8080/",
     "height": 34
    },
    "colab_type": "code",
    "id": "IO-WF_1mCR2x",
    "outputId": "5182d797-f8b1-47b4-c384-2d823b415699"
   },
   "outputs": [
    {
     "data": {
      "text/plain": [
       "327"
      ]
     },
     "execution_count": 13,
     "metadata": {},
     "output_type": "execute_result"
    }
   ],
   "source": [
    "len(nlp.Defaults.stop_words)"
   ]
  },
  {
   "cell_type": "code",
   "execution_count": 14,
   "metadata": {
    "colab": {
     "base_uri": "https://localhost:8080/",
     "height": 34
    },
    "colab_type": "code",
    "id": "oMMCzOUACR21",
    "outputId": "8e8ae166-3a1f-46b9-b60c-d5a13f4deca4"
   },
   "outputs": [
    {
     "data": {
      "text/plain": [
       "True"
      ]
     },
     "execution_count": 14,
     "metadata": {},
     "output_type": "execute_result"
    }
   ],
   "source": [
    "nlp.vocab['mystery'].is_stop"
   ]
  },
  {
   "cell_type": "markdown",
   "metadata": {
    "colab_type": "text",
    "id": "p58rPB42CR24"
   },
   "source": [
    "#### 4. To remove a stop word\n"
   ]
  },
  {
   "cell_type": "code",
   "execution_count": 15,
   "metadata": {
    "colab": {},
    "colab_type": "code",
    "id": "0KEtYBNRCR25"
   },
   "outputs": [],
   "source": [
    "# Remove the word from the set of stop words\n",
    "nlp.Defaults.stop_words.remove('beyond')\n",
    "\n",
    "# Remove the stop_word tag from the lexeme\n",
    "nlp.vocab['beyond'].is_stop = False"
   ]
  },
  {
   "cell_type": "code",
   "execution_count": 16,
   "metadata": {
    "colab": {
     "base_uri": "https://localhost:8080/",
     "height": 34
    },
    "colab_type": "code",
    "id": "iQr5IK3CCR28",
    "outputId": "a4f3f68a-6268-4ed1-c262-f870b2bd369c"
   },
   "outputs": [
    {
     "data": {
      "text/plain": [
       "326"
      ]
     },
     "execution_count": 16,
     "metadata": {},
     "output_type": "execute_result"
    }
   ],
   "source": [
    "len(nlp.Defaults.stop_words)"
   ]
  },
  {
   "cell_type": "code",
   "execution_count": 17,
   "metadata": {
    "colab": {
     "base_uri": "https://localhost:8080/",
     "height": 34
    },
    "colab_type": "code",
    "id": "ZLnWlnDQCR2_",
    "outputId": "019a669d-b077-4289-f567-5df00fbcb4d3"
   },
   "outputs": [
    {
     "data": {
      "text/plain": [
       "False"
      ]
     },
     "execution_count": 17,
     "metadata": {},
     "output_type": "execute_result"
    }
   ],
   "source": [
    "nlp.vocab['beyond'].is_stop"
   ]
  },
  {
   "cell_type": "markdown",
   "metadata": {},
   "source": [
    "#### 5. Example"
   ]
  },
  {
   "cell_type": "code",
   "execution_count": 18,
   "metadata": {
    "colab": {
     "base_uri": "https://localhost:8080/",
     "height": 51
    },
    "colab_type": "code",
    "id": "TCyp1UmXCxgJ",
    "outputId": "3ea34f16-1f46-4b5a-b25e-d9d720a9debc"
   },
   "outputs": [
    {
     "name": "stderr",
     "output_type": "stream",
     "text": [
      "[nltk_data] Downloading package punkt to\n",
      "[nltk_data]     /home/v-ajay.nikumbh/nltk_data...\n",
      "[nltk_data]   Unzipping tokenizers/punkt.zip.\n"
     ]
    }
   ],
   "source": [
    "import string\n",
    "import re\n",
    "import nltk\n",
    "nltk.download('punkt')\n",
    "from nltk import word_tokenize,sent_tokenize\n",
    "from nltk.corpus import stopwords\n",
    "# load data\n",
    "text = 'The Quick brown fox jump over the lazy dog!'"
   ]
  },
  {
   "cell_type": "code",
   "execution_count": 19,
   "metadata": {
    "colab": {
     "base_uri": "https://localhost:8080/",
     "height": 34
    },
    "colab_type": "code",
    "id": "pehkONOeDPd-",
    "outputId": "f65a8bd5-7adf-4f49-b4e5-a191f4378f16"
   },
   "outputs": [
    {
     "name": "stdout",
     "output_type": "stream",
     "text": [
      "['The', 'Quick', 'brown', 'fox', 'jump', 'over', 'the', 'lazy', 'dog', '!']\n"
     ]
    }
   ],
   "source": [
    "# split into words\n",
    "tokens = word_tokenize(text)\n",
    "print(tokens)"
   ]
  },
  {
   "cell_type": "code",
   "execution_count": 20,
   "metadata": {
    "colab": {
     "base_uri": "https://localhost:8080/",
     "height": 34
    },
    "colab_type": "code",
    "id": "K0zTYJKID--l",
    "outputId": "2aadf62e-6504-43d6-f9db-a62d16c59c00"
   },
   "outputs": [
    {
     "name": "stdout",
     "output_type": "stream",
     "text": [
      "['the', 'quick', 'brown', 'fox', 'jump', 'over', 'the', 'lazy', 'dog', '!']\n"
     ]
    }
   ],
   "source": [
    "# convert to lower case\n",
    "tokens = [w.lower() for w in tokens]\n",
    "print(tokens)"
   ]
  },
  {
   "cell_type": "code",
   "execution_count": 21,
   "metadata": {
    "colab": {
     "base_uri": "https://localhost:8080/",
     "height": 34
    },
    "colab_type": "code",
    "id": "PXAJpO5hEEcj",
    "outputId": "2f5afa33-d27f-4a47-8112-770cd7a2da8d"
   },
   "outputs": [
    {
     "name": "stdout",
     "output_type": "stream",
     "text": [
      "re.compile('[!\"\\\\#\\\\$%\\\\&\\'\\\\(\\\\)\\\\*\\\\+,\\\\-\\\\./:;<=>\\\\?@\\\\[\\\\\\\\\\\\]\\\\^_`\\\\{\\\\|\\\\}\\\\~]')\n"
     ]
    }
   ],
   "source": [
    "# prepare regex for char filtering\n",
    "re_punc = re.compile('[%s]' % re.escape(string.punctuation))\n",
    "print(re_punc)"
   ]
  },
  {
   "cell_type": "code",
   "execution_count": 22,
   "metadata": {
    "colab": {
     "base_uri": "https://localhost:8080/",
     "height": 34
    },
    "colab_type": "code",
    "id": "IRupmyA-EF7z",
    "outputId": "57187a4f-2fb1-4500-e194-227f377a05f3"
   },
   "outputs": [
    {
     "name": "stdout",
     "output_type": "stream",
     "text": [
      "['the', 'quick', 'brown', 'fox', 'jump', 'over', 'the', 'lazy', 'dog', '']\n"
     ]
    }
   ],
   "source": [
    "# remove punctuation from each word\n",
    "stripped = [re_punc.sub('', w) for w in tokens]\n",
    "print(stripped)"
   ]
  },
  {
   "cell_type": "code",
   "execution_count": 23,
   "metadata": {
    "colab": {
     "base_uri": "https://localhost:8080/",
     "height": 34
    },
    "colab_type": "code",
    "id": "c0__AkhWEHPT",
    "outputId": "5d8bf427-19e9-47a0-c269-31d4ce85f49e"
   },
   "outputs": [
    {
     "name": "stdout",
     "output_type": "stream",
     "text": [
      "['the', 'quick', 'brown', 'fox', 'jump', 'over', 'the', 'lazy', 'dog']\n"
     ]
    }
   ],
   "source": [
    "# remove remaining tokens that are not alphabetic\n",
    "words = [word for word in stripped if word.isalpha()]\n",
    "print(words)"
   ]
  },
  {
   "cell_type": "code",
   "execution_count": 24,
   "metadata": {
    "colab": {
     "base_uri": "https://localhost:8080/",
     "height": 34
    },
    "colab_type": "code",
    "id": "6WYqyINsEIhD",
    "outputId": "1917537b-051f-43e8-bb76-6d741163eecf"
   },
   "outputs": [
    {
     "name": "stdout",
     "output_type": "stream",
     "text": [
      "['quick', 'brown', 'fox', 'jump', 'lazy', 'dog']\n"
     ]
    }
   ],
   "source": [
    "# filter out non-stop words\n",
    "stop_words = set(stopwords.words('english'))\n",
    "words = [w for w in words if not w in stop_words]\n",
    "print(words)"
   ]
  }
 ],
 "metadata": {
  "colab": {
   "collapsed_sections": [],
   "name": "StopWords_FahadHussainCS.ipynb",
   "provenance": []
  },
  "kernelspec": {
   "display_name": "Python 3 (ipykernel)",
   "language": "python",
   "name": "python3"
  },
  "language_info": {
   "codemirror_mode": {
    "name": "ipython",
    "version": 3
   },
   "file_extension": ".py",
   "mimetype": "text/x-python",
   "name": "python",
   "nbconvert_exporter": "python",
   "pygments_lexer": "ipython3",
   "version": "3.8.10"
  }
 },
 "nbformat": 4,
 "nbformat_minor": 1
}
